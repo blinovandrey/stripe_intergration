{
 "cells": [
  {
   "cell_type": "markdown",
   "metadata": {},
   "source": [
    "# Интеграция Stripe с Python"
   ]
  },
  {
   "cell_type": "markdown",
   "metadata": {},
   "source": [
    "## Общая информация\n",
    "\n",
    "### Stripe - это американская технологическая компания, разрабатывающая решения для приёма и обработки электронных платежей. Используя Stripe веб-разработчики могут интегрировать платежный процессинг в свой сайт без необходимости регистрировать счет мерчанта.\n",
    "\n",
    "### На сегодняшний день Stripe поддерживает следующие страны (список стран, в которых может быть зарегистрирован бизнес клиента): Australia, Austria, Belgium, Canada, Denmark, Finland, France, Germany, Hong Kong, Ireland, Italy, Japan, Luxembourg, Netherlands, New Zealand, Norway, Portugal, Singapore, Spain, Sweden, Switzerland, United Kingdom, United States\n",
    "https://stripe.com/global\n",
    "\n",
    "### Stripe предоставляет следующие продукты:\n",
    "\n",
    "#### 1. Payments https://stripe.com/us/payments - готовая платформа для платежей\n",
    "#### 2. Billing https://stripe.com/us/billing - набор инструментов для платных подписок, купонов, дисконтов\n",
    "#### 3. Connect https://stripe.com/connect - набор инструментов для приема платажей и выплат третьим лицам\n",
    "#### 4. Sigma https://stripe.com/us/sigma - SQL-like система для выборки и обработки данных для отчетов напрямую из дашборда (платная)\n",
    "#### 5. Atlas https://stripe.com/atlas - туториалы и советы по старту интернет-бизнеса\n",
    "#### 6. Radar https://stripe.com/us/radar - система на основе машинного обучения для определения случаев мошеннических транзакций\n",
    "#### 7. Issuing https://stripe.com/issuing - набор интсрументов для управления физическими и виртуальными картами\n",
    "\n",
    "### Stripe предоставляет различные планы отлаты: https://stripe.com/us/pricing, комиссия начинается от 2.9% + 30¢ за каждый успешно проведенный платеж"
   ]
  },
  {
   "cell_type": "markdown",
   "metadata": {},
   "source": [
    "## Stripe API\n",
    "\n",
    "### для изпользования API необходимо зарегистрировать аккуант Stripe, после чего получим publishiable и secret keys. API тестового и боевого режима ничем не отличаются, для боевого нужно лишь активировать аккаунт в этом режиме и использовать боевой secret key.  https://stripe.com/docs/keys\n",
    "\n",
    "### Документация и туториалы доступны здесь: https://stripe.com/docs\n",
    "### Подробное API здесь для Python здесь: https://stripe.com/docs/api/python\n"
   ]
  },
  {
   "cell_type": "markdown",
   "metadata": {},
   "source": [
    "### Для начала работы импортируем api stripe:"
   ]
  },
  {
   "cell_type": "code",
   "execution_count": 17,
   "metadata": {},
   "outputs": [],
   "source": [
    "import stripe"
   ]
  },
  {
   "cell_type": "markdown",
   "metadata": {},
   "source": [
    "### Аутентификация аккаунта в stripe происходит через указание api_key, где api_key - это secret key нашего аккаунта. Stripe запоминает текущий api_key и будет передавать его во всех послежующих запросах. В случае если нужно переключаться между ключами, их можно явно отсылать в виде параметра запроса."
   ]
  },
  {
   "cell_type": "code",
   "execution_count": null,
   "metadata": {},
   "outputs": [],
   "source": [
    "stripe.api_key = \"sk_test_fG08yEPknL46qCErSOEqZJZ3\""
   ]
  },
  {
   "cell_type": "markdown",
   "metadata": {},
   "source": [
    "### API Stripe представлено в виде ресурсов и методов доступа к ним, обычно используются привычные REST именования (create, update, retrieve, delete, list)"
   ]
  },
  {
   "cell_type": "markdown",
   "metadata": {},
   "source": [
    "## Пример. Оплаты по карте."
   ]
  },
  {
   "cell_type": "markdown",
   "metadata": {},
   "source": [
    "### Flow оплат: \n",
    "#### 1. Пользователь вводит данные карты и сумму оплаты на клиенте \n",
    "#### 2. Используя publishable key и встроенные клиентские библиотеки stripe (https://stripe.com/docs/stripe-js#elements) происходит проверка данных карты и генерация токена\n",
    "#### 3. Токен передается на сервер и создается объект Charge:"
   ]
  },
  {
   "cell_type": "code",
   "execution_count": 19,
   "metadata": {},
   "outputs": [
    {
     "name": "stdout",
     "output_type": "stream",
     "text": [
      "{\n",
      "  \"amount\": 999,\n",
      "  \"amount_refunded\": 0,\n",
      "  \"application\": null,\n",
      "  \"application_fee\": null,\n",
      "  \"balance_transaction\": \"txn_1Cyd5kFaIPBmVHYvXJtWMpvS\",\n",
      "  \"captured\": true,\n",
      "  \"created\": 1534155363,\n",
      "  \"currency\": \"usd\",\n",
      "  \"customer\": null,\n",
      "  \"description\": null,\n",
      "  \"destination\": null,\n",
      "  \"dispute\": null,\n",
      "  \"failure_code\": null,\n",
      "  \"failure_message\": null,\n",
      "  \"fraud_details\": {},\n",
      "  \"id\": \"ch_1Cyd5jFaIPBmVHYvMYLKG3Tk\",\n",
      "  \"invoice\": null,\n",
      "  \"livemode\": false,\n",
      "  \"metadata\": {},\n",
      "  \"object\": \"charge\",\n",
      "  \"on_behalf_of\": null,\n",
      "  \"order\": null,\n",
      "  \"outcome\": {\n",
      "    \"network_status\": \"approved_by_network\",\n",
      "    \"reason\": null,\n",
      "    \"risk_level\": \"normal\",\n",
      "    \"seller_message\": \"Payment complete.\",\n",
      "    \"type\": \"authorized\"\n",
      "  },\n",
      "  \"paid\": true,\n",
      "  \"receipt_email\": \"jenny.rosen@example.com\",\n",
      "  \"receipt_number\": null,\n",
      "  \"refunded\": false,\n",
      "  \"refunds\": {\n",
      "    \"data\": [],\n",
      "    \"has_more\": false,\n",
      "    \"object\": \"list\",\n",
      "    \"total_count\": 0,\n",
      "    \"url\": \"/v1/charges/ch_1Cyd5jFaIPBmVHYvMYLKG3Tk/refunds\"\n",
      "  },\n",
      "  \"review\": null,\n",
      "  \"shipping\": null,\n",
      "  \"source\": {\n",
      "    \"address_city\": null,\n",
      "    \"address_country\": null,\n",
      "    \"address_line1\": null,\n",
      "    \"address_line1_check\": null,\n",
      "    \"address_line2\": null,\n",
      "    \"address_state\": null,\n",
      "    \"address_zip\": null,\n",
      "    \"address_zip_check\": null,\n",
      "    \"brand\": \"Visa\",\n",
      "    \"country\": \"US\",\n",
      "    \"customer\": null,\n",
      "    \"cvc_check\": null,\n",
      "    \"dynamic_last4\": null,\n",
      "    \"exp_month\": 8,\n",
      "    \"exp_year\": 2019,\n",
      "    \"fingerprint\": \"qBSiifkG21q0uKB2\",\n",
      "    \"funding\": \"credit\",\n",
      "    \"id\": \"card_1Cyd5jFaIPBmVHYveSxtSPCA\",\n",
      "    \"last4\": \"4242\",\n",
      "    \"metadata\": {},\n",
      "    \"name\": null,\n",
      "    \"object\": \"card\",\n",
      "    \"tokenization_method\": null\n",
      "  },\n",
      "  \"source_transfer\": null,\n",
      "  \"statement_descriptor\": null,\n",
      "  \"status\": \"succeeded\",\n",
      "  \"transfer_group\": null\n",
      "}\n"
     ]
    }
   ],
   "source": [
    "charge = stripe.Charge.create(\n",
    "  amount=999,\n",
    "  currency='usd',\n",
    "  source='tok_visa', #сгенерированный токен\n",
    "  receipt_email='jenny.rosen@example.com',\n",
    ")\n",
    "print(charge)"
   ]
  },
  {
   "cell_type": "markdown",
   "metadata": {},
   "source": [
    "#### В примере выше использовали один из тестовых токенов. Stripe имеет набор тестовых карт и токенов для различных кейсов: https://stripe.com/docs/testing#cards"
   ]
  },
  {
   "cell_type": "code",
   "execution_count": null,
   "metadata": {},
   "outputs": [],
   "source": []
  },
  {
   "cell_type": "code",
   "execution_count": null,
   "metadata": {},
   "outputs": [],
   "source": []
  }
 ],
 "metadata": {
  "kernelspec": {
   "display_name": "Python 3",
   "language": "python",
   "name": "python3"
  },
  "language_info": {
   "codemirror_mode": {
    "name": "ipython",
    "version": 3
   },
   "file_extension": ".py",
   "mimetype": "text/x-python",
   "name": "python",
   "nbconvert_exporter": "python",
   "pygments_lexer": "ipython3",
   "version": "3.6.5"
  }
 },
 "nbformat": 4,
 "nbformat_minor": 2
}
