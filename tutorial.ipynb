{
 "cells": [
  {
   "cell_type": "markdown",
   "metadata": {},
   "source": [
    "# Интеграция Stripe с Python"
   ]
  },
  {
   "cell_type": "markdown",
   "metadata": {},
   "source": [
    "## Общая информация\n",
    "\n",
    "### Stripe - это американская технологическая компания, разрабатывающая решения для приёма и обработки электронных платежей. Используя Stripe веб-разработчики могут интегрировать платежный процессинг в свой сайт без необходимости регистрировать счет мерчанта.\n",
    "\n",
    "### На сегодняшний день Stripe поддерживает следующие страны (список стран, в которых может быть зарегистрирован бизнес клиента): Australia, Austria, Belgium, Canada, Denmark, Finland, France, Germany, Hong Kong, Ireland, Italy, Japan, Luxembourg, Netherlands, New Zealand, Norway, Portugal, Singapore, Spain, Sweden, Switzerland, United Kingdom, United States\n",
    "https://stripe.com/global\n",
    "\n",
    "### Stripe предоставляет следующие продукты:\n",
    "\n",
    "#### 1. Payments https://stripe.com/us/payments - готовая платформа для платежей\n",
    "#### 2. Billing https://stripe.com/us/billing - набор инструментов для платных подписок, купонов, дисконтов\n",
    "#### 3. Connect https://stripe.com/connect - набор инструментов для приема платажей и выплат третьим лицам\n",
    "#### 4. Sigma https://stripe.com/us/sigma - SQL-like система для выборки и обработки данных для отчетов напрямую из дашборда (платная)\n",
    "#### 5. Atlas https://stripe.com/atlas - туториалы и советы по старту интернет-бизнеса\n",
    "#### 6. Radar https://stripe.com/us/radar - система на основе машинного обучения для определения случаев мошеннических транзакций\n",
    "#### 7. Issuing https://stripe.com/issuing - набор интсрументов для управления физическими и виртуальными картами\n",
    "\n",
    "### Stripe предоставляет различные планы отлаты: https://stripe.com/us/pricing, комиссия начинается от 2.9% + 30¢ за каждый успешно проведенный платеж"
   ]
  },
  {
   "cell_type": "markdown",
   "metadata": {},
   "source": [
    "## Stripe API\n",
    "\n",
    "### для изпользования API необходимо зарегистрировать аккуант Stripe, после чего получим publishiable и secret keys. API тестового и боевого режима ничем не отличаются, для боевого нужно лишь активировать аккаунт в этом режиме и использовать боевой secret key.  https://stripe.com/docs/keys\n",
    "\n",
    "### Документация и туториалы доступны здесь: https://stripe.com/docs\n",
    "### Подробное API здесь для Python здесь: https://stripe.com/docs/api/python\n"
   ]
  },
  {
   "cell_type": "markdown",
   "metadata": {},
   "source": [
    "### Для начала работы импортируем api stripe:"
   ]
  },
  {
   "cell_type": "code",
   "execution_count": 2,
   "metadata": {},
   "outputs": [],
   "source": [
    "import stripe"
   ]
  },
  {
   "cell_type": "markdown",
   "metadata": {},
   "source": [
    "### Аутентификация аккаунта в stripe происходит через указание api_key, где api_key - это secret key нашего аккаунта. Stripe запоминает текущий api_key и будет передавать его во всех послежующих запросах. В случае если нужно переключаться между ключами, их можно явно отсылать в виде параметра запроса."
   ]
  },
  {
   "cell_type": "code",
   "execution_count": 3,
   "metadata": {},
   "outputs": [],
   "source": [
    "stripe.api_key = \"sk_test_fG08yEPknL46qCErSOEqZJZ3\""
   ]
  },
  {
   "cell_type": "markdown",
   "metadata": {},
   "source": [
    "### API Stripe представлено в виде ресурсов и методов доступа к ним, обычно используются привычные REST именования (create, update, retrieve, delete, list)"
   ]
  },
  {
   "cell_type": "markdown",
   "metadata": {},
   "source": [
    "## Платежи \n",
    "## Пример. Обычный платеж банковской картой."
   ]
  },
  {
   "cell_type": "markdown",
   "metadata": {},
   "source": [
    "### Флоу: \n",
    "#### 1. Пользователь вводит данные карты и сумму оплаты на клиенте \n",
    "#### 2. Используя publishable key и встроенные клиентские библиотеки stripe (https://stripe.com/docs/stripe-js#elements) происходит проверка данных карты и генерация токена\n",
    "#### 3. Токен передается на сервер при создании платежа через параметр source и создается платеж (объект Charge):"
   ]
  },
  {
   "cell_type": "code",
   "execution_count": 4,
   "metadata": {},
   "outputs": [
    {
     "name": "stdout",
     "output_type": "stream",
     "text": [
      "{\n",
      "  \"amount\": 999,\n",
      "  \"amount_refunded\": 0,\n",
      "  \"application\": null,\n",
      "  \"application_fee\": null,\n",
      "  \"balance_transaction\": \"txn_1CyngGFaIPBmVHYvswLPkYnZ\",\n",
      "  \"captured\": true,\n",
      "  \"created\": 1534196068,\n",
      "  \"currency\": \"usd\",\n",
      "  \"customer\": null,\n",
      "  \"description\": null,\n",
      "  \"destination\": null,\n",
      "  \"dispute\": null,\n",
      "  \"failure_code\": null,\n",
      "  \"failure_message\": null,\n",
      "  \"fraud_details\": {},\n",
      "  \"id\": \"ch_1CyngGFaIPBmVHYvC4Y9hXJg\",\n",
      "  \"invoice\": null,\n",
      "  \"livemode\": false,\n",
      "  \"metadata\": {},\n",
      "  \"object\": \"charge\",\n",
      "  \"on_behalf_of\": null,\n",
      "  \"order\": null,\n",
      "  \"outcome\": {\n",
      "    \"network_status\": \"approved_by_network\",\n",
      "    \"reason\": null,\n",
      "    \"risk_level\": \"normal\",\n",
      "    \"seller_message\": \"Payment complete.\",\n",
      "    \"type\": \"authorized\"\n",
      "  },\n",
      "  \"paid\": true,\n",
      "  \"receipt_email\": \"jenny.rosen@example.com\",\n",
      "  \"receipt_number\": null,\n",
      "  \"refunded\": false,\n",
      "  \"refunds\": {\n",
      "    \"data\": [],\n",
      "    \"has_more\": false,\n",
      "    \"object\": \"list\",\n",
      "    \"total_count\": 0,\n",
      "    \"url\": \"/v1/charges/ch_1CyngGFaIPBmVHYvC4Y9hXJg/refunds\"\n",
      "  },\n",
      "  \"review\": null,\n",
      "  \"shipping\": null,\n",
      "  \"source\": {\n",
      "    \"address_city\": null,\n",
      "    \"address_country\": null,\n",
      "    \"address_line1\": null,\n",
      "    \"address_line1_check\": null,\n",
      "    \"address_line2\": null,\n",
      "    \"address_state\": null,\n",
      "    \"address_zip\": null,\n",
      "    \"address_zip_check\": null,\n",
      "    \"brand\": \"Visa\",\n",
      "    \"country\": \"US\",\n",
      "    \"customer\": null,\n",
      "    \"cvc_check\": null,\n",
      "    \"dynamic_last4\": null,\n",
      "    \"exp_month\": 8,\n",
      "    \"exp_year\": 2019,\n",
      "    \"fingerprint\": \"qBSiifkG21q0uKB2\",\n",
      "    \"funding\": \"credit\",\n",
      "    \"id\": \"card_1CyngGFaIPBmVHYvx6A2Uwrs\",\n",
      "    \"last4\": \"4242\",\n",
      "    \"metadata\": {},\n",
      "    \"name\": null,\n",
      "    \"object\": \"card\",\n",
      "    \"tokenization_method\": null\n",
      "  },\n",
      "  \"source_transfer\": null,\n",
      "  \"statement_descriptor\": null,\n",
      "  \"status\": \"succeeded\",\n",
      "  \"transfer_group\": null\n",
      "}\n"
     ]
    }
   ],
   "source": [
    "charge = stripe.Charge.create(\n",
    "  amount=999,\n",
    "  currency='usd',\n",
    "  source='tok_visa', #сгенерированный токен\n",
    "  receipt_email='jenny.rosen@example.com',\n",
    ")\n",
    "print(charge)"
   ]
  },
  {
   "cell_type": "markdown",
   "metadata": {},
   "source": [
    "#### В примере выше использовали один из тестовых токенов. Stripe имеет набор тестовых карт и токенов для различных кейсов: https://stripe.com/docs/testing#cards\n",
    "#### После создания платежа деньги попадают в период ожидания от 2-7 дней и далее оказываются доступны на балансе Stripe аккаунта"
   ]
  },
  {
   "cell_type": "markdown",
   "metadata": {},
   "source": [
    "#### Можно получить, а также обновлять некоторую информацию о конкретном платеже зная его id:"
   ]
  },
  {
   "cell_type": "code",
   "execution_count": 5,
   "metadata": {},
   "outputs": [
    {
     "data": {
      "text/plain": [
       "<Charge charge id=ch_1CyTH4FaIPBmVHYvYyMkCc9G at 0x10e41f4c0> JSON: {\n",
       "  \"amount\": 999,\n",
       "  \"amount_refunded\": 0,\n",
       "  \"application\": null,\n",
       "  \"application_fee\": null,\n",
       "  \"balance_transaction\": \"txn_1CyTH5FaIPBmVHYvi3cYC6tt\",\n",
       "  \"captured\": true,\n",
       "  \"created\": 1534117626,\n",
       "  \"currency\": \"usd\",\n",
       "  \"customer\": null,\n",
       "  \"description\": \"Charge for jenny.rosen@example.com\",\n",
       "  \"destination\": null,\n",
       "  \"dispute\": null,\n",
       "  \"failure_code\": null,\n",
       "  \"failure_message\": null,\n",
       "  \"fraud_details\": {},\n",
       "  \"id\": \"ch_1CyTH4FaIPBmVHYvYyMkCc9G\",\n",
       "  \"invoice\": null,\n",
       "  \"livemode\": false,\n",
       "  \"metadata\": {},\n",
       "  \"object\": \"charge\",\n",
       "  \"on_behalf_of\": null,\n",
       "  \"order\": null,\n",
       "  \"outcome\": {\n",
       "    \"network_status\": \"approved_by_network\",\n",
       "    \"reason\": null,\n",
       "    \"risk_level\": \"normal\",\n",
       "    \"seller_message\": \"Payment complete.\",\n",
       "    \"type\": \"authorized\"\n",
       "  },\n",
       "  \"paid\": true,\n",
       "  \"receipt_email\": \"jenny.rosen@example.com\",\n",
       "  \"receipt_number\": null,\n",
       "  \"refunded\": false,\n",
       "  \"refunds\": {\n",
       "    \"data\": [],\n",
       "    \"has_more\": false,\n",
       "    \"object\": \"list\",\n",
       "    \"total_count\": 0,\n",
       "    \"url\": \"/v1/charges/ch_1CyTH4FaIPBmVHYvYyMkCc9G/refunds\"\n",
       "  },\n",
       "  \"review\": null,\n",
       "  \"shipping\": null,\n",
       "  \"source\": {\n",
       "    \"address_city\": null,\n",
       "    \"address_country\": null,\n",
       "    \"address_line1\": null,\n",
       "    \"address_line1_check\": null,\n",
       "    \"address_line2\": null,\n",
       "    \"address_state\": null,\n",
       "    \"address_zip\": null,\n",
       "    \"address_zip_check\": null,\n",
       "    \"brand\": \"Visa\",\n",
       "    \"country\": \"US\",\n",
       "    \"customer\": null,\n",
       "    \"cvc_check\": null,\n",
       "    \"dynamic_last4\": null,\n",
       "    \"exp_month\": 8,\n",
       "    \"exp_year\": 2019,\n",
       "    \"fingerprint\": \"qBSiifkG21q0uKB2\",\n",
       "    \"funding\": \"credit\",\n",
       "    \"id\": \"card_1CyTH4FaIPBmVHYvu49CCvym\",\n",
       "    \"last4\": \"4242\",\n",
       "    \"metadata\": {},\n",
       "    \"name\": null,\n",
       "    \"object\": \"card\",\n",
       "    \"tokenization_method\": null\n",
       "  },\n",
       "  \"source_transfer\": null,\n",
       "  \"statement_descriptor\": null,\n",
       "  \"status\": \"succeeded\",\n",
       "  \"transfer_group\": null\n",
       "}"
      ]
     },
     "execution_count": 5,
     "metadata": {},
     "output_type": "execute_result"
    }
   ],
   "source": [
    "charge = stripe.Charge.retrieve(\"ch_1CyTH4FaIPBmVHYvYyMkCc9G\")\n",
    "charge.description = \"Charge for jenny.rosen@example.com\"\n",
    "charge.save()\n",
    "charge"
   ]
  },
  {
   "cell_type": "markdown",
   "metadata": {},
   "source": [
    "#### Также доступен список всех созданных платежей:"
   ]
  },
  {
   "cell_type": "code",
   "execution_count": 6,
   "metadata": {},
   "outputs": [
    {
     "data": {
      "text/plain": [
       "<ListObject list at 0x10e3ebfc0> JSON: {\n",
       "  \"data\": [\n",
       "    {\n",
       "      \"amount\": 999,\n",
       "      \"amount_refunded\": 0,\n",
       "      \"application\": null,\n",
       "      \"application_fee\": null,\n",
       "      \"balance_transaction\": \"txn_1CyngGFaIPBmVHYvswLPkYnZ\",\n",
       "      \"captured\": true,\n",
       "      \"created\": 1534196068,\n",
       "      \"currency\": \"usd\",\n",
       "      \"customer\": null,\n",
       "      \"description\": null,\n",
       "      \"destination\": null,\n",
       "      \"dispute\": null,\n",
       "      \"failure_code\": null,\n",
       "      \"failure_message\": null,\n",
       "      \"fraud_details\": {},\n",
       "      \"id\": \"ch_1CyngGFaIPBmVHYvC4Y9hXJg\",\n",
       "      \"invoice\": null,\n",
       "      \"livemode\": false,\n",
       "      \"metadata\": {},\n",
       "      \"object\": \"charge\",\n",
       "      \"on_behalf_of\": null,\n",
       "      \"order\": null,\n",
       "      \"outcome\": {\n",
       "        \"network_status\": \"approved_by_network\",\n",
       "        \"reason\": null,\n",
       "        \"risk_level\": \"normal\",\n",
       "        \"seller_message\": \"Payment complete.\",\n",
       "        \"type\": \"authorized\"\n",
       "      },\n",
       "      \"paid\": true,\n",
       "      \"receipt_email\": \"jenny.rosen@example.com\",\n",
       "      \"receipt_number\": null,\n",
       "      \"refunded\": false,\n",
       "      \"refunds\": {},\n",
       "      \"review\": null,\n",
       "      \"shipping\": null,\n",
       "      \"source\": {\n",
       "        \"address_city\": null,\n",
       "        \"address_country\": null,\n",
       "        \"address_line1\": null,\n",
       "        \"address_line1_check\": null,\n",
       "        \"address_line2\": null,\n",
       "        \"address_state\": null,\n",
       "        \"address_zip\": null,\n",
       "        \"address_zip_check\": null,\n",
       "        \"brand\": \"Visa\",\n",
       "        \"country\": \"US\",\n",
       "        \"customer\": null,\n",
       "        \"cvc_check\": null,\n",
       "        \"dynamic_last4\": null,\n",
       "        \"exp_month\": 8,\n",
       "        \"exp_year\": 2019,\n",
       "        \"fingerprint\": \"qBSiifkG21q0uKB2\",\n",
       "        \"funding\": \"credit\",\n",
       "        \"id\": \"card_1CyngGFaIPBmVHYvx6A2Uwrs\",\n",
       "        \"last4\": \"4242\",\n",
       "        \"metadata\": {},\n",
       "        \"name\": null,\n",
       "        \"object\": \"card\",\n",
       "        \"tokenization_method\": null\n",
       "      },\n",
       "      \"source_transfer\": null,\n",
       "      \"statement_descriptor\": null,\n",
       "      \"status\": \"succeeded\",\n",
       "      \"transfer_group\": null\n",
       "    },\n",
       "    {\n",
       "      \"amount\": 999,\n",
       "      \"amount_refunded\": 0,\n",
       "      \"application\": null,\n",
       "      \"application_fee\": null,\n",
       "      \"balance_transaction\": \"txn_1Cyd5kFaIPBmVHYvXJtWMpvS\",\n",
       "      \"captured\": true,\n",
       "      \"created\": 1534155363,\n",
       "      \"currency\": \"usd\",\n",
       "      \"customer\": null,\n",
       "      \"description\": null,\n",
       "      \"destination\": null,\n",
       "      \"dispute\": null,\n",
       "      \"failure_code\": null,\n",
       "      \"failure_message\": null,\n",
       "      \"fraud_details\": {},\n",
       "      \"id\": \"ch_1Cyd5jFaIPBmVHYvMYLKG3Tk\",\n",
       "      \"invoice\": null,\n",
       "      \"livemode\": false,\n",
       "      \"metadata\": {},\n",
       "      \"object\": \"charge\",\n",
       "      \"on_behalf_of\": null,\n",
       "      \"order\": null,\n",
       "      \"outcome\": {\n",
       "        \"network_status\": \"approved_by_network\",\n",
       "        \"reason\": null,\n",
       "        \"risk_level\": \"normal\",\n",
       "        \"seller_message\": \"Payment complete.\",\n",
       "        \"type\": \"authorized\"\n",
       "      },\n",
       "      \"paid\": true,\n",
       "      \"receipt_email\": \"jenny.rosen@example.com\",\n",
       "      \"receipt_number\": null,\n",
       "      \"refunded\": false,\n",
       "      \"refunds\": {},\n",
       "      \"review\": null,\n",
       "      \"shipping\": null,\n",
       "      \"source\": {\n",
       "        \"address_city\": null,\n",
       "        \"address_country\": null,\n",
       "        \"address_line1\": null,\n",
       "        \"address_line1_check\": null,\n",
       "        \"address_line2\": null,\n",
       "        \"address_state\": null,\n",
       "        \"address_zip\": null,\n",
       "        \"address_zip_check\": null,\n",
       "        \"brand\": \"Visa\",\n",
       "        \"country\": \"US\",\n",
       "        \"customer\": null,\n",
       "        \"cvc_check\": null,\n",
       "        \"dynamic_last4\": null,\n",
       "        \"exp_month\": 8,\n",
       "        \"exp_year\": 2019,\n",
       "        \"fingerprint\": \"qBSiifkG21q0uKB2\",\n",
       "        \"funding\": \"credit\",\n",
       "        \"id\": \"card_1Cyd5jFaIPBmVHYveSxtSPCA\",\n",
       "        \"last4\": \"4242\",\n",
       "        \"metadata\": {},\n",
       "        \"name\": null,\n",
       "        \"object\": \"card\",\n",
       "        \"tokenization_method\": null\n",
       "      },\n",
       "      \"source_transfer\": null,\n",
       "      \"statement_descriptor\": null,\n",
       "      \"status\": \"succeeded\",\n",
       "      \"transfer_group\": null\n",
       "    },\n",
       "    {\n",
       "      \"amount\": 999,\n",
       "      \"amount_refunded\": 0,\n",
       "      \"application\": null,\n",
       "      \"application_fee\": null,\n",
       "      \"balance_transaction\": \"txn_1Cyd4LFaIPBmVHYvT6kpQVwe\",\n",
       "      \"captured\": true,\n",
       "      \"created\": 1534155276,\n",
       "      \"currency\": \"usd\",\n",
       "      \"customer\": null,\n",
       "      \"description\": null,\n",
       "      \"destination\": null,\n",
       "      \"dispute\": null,\n",
       "      \"failure_code\": null,\n",
       "      \"failure_message\": null,\n",
       "      \"fraud_details\": {},\n",
       "      \"id\": \"ch_1Cyd4KFaIPBmVHYv6Oc1wW2b\",\n",
       "      \"invoice\": null,\n",
       "      \"livemode\": false,\n",
       "      \"metadata\": {},\n",
       "      \"object\": \"charge\",\n",
       "      \"on_behalf_of\": null,\n",
       "      \"order\": null,\n",
       "      \"outcome\": {\n",
       "        \"network_status\": \"approved_by_network\",\n",
       "        \"reason\": null,\n",
       "        \"risk_level\": \"normal\",\n",
       "        \"seller_message\": \"Payment complete.\",\n",
       "        \"type\": \"authorized\"\n",
       "      },\n",
       "      \"paid\": true,\n",
       "      \"receipt_email\": \"jenny.rosen@example.com\",\n",
       "      \"receipt_number\": null,\n",
       "      \"refunded\": false,\n",
       "      \"refunds\": {},\n",
       "      \"review\": null,\n",
       "      \"shipping\": null,\n",
       "      \"source\": {\n",
       "        \"address_city\": null,\n",
       "        \"address_country\": null,\n",
       "        \"address_line1\": null,\n",
       "        \"address_line1_check\": null,\n",
       "        \"address_line2\": null,\n",
       "        \"address_state\": null,\n",
       "        \"address_zip\": null,\n",
       "        \"address_zip_check\": null,\n",
       "        \"brand\": \"Visa\",\n",
       "        \"country\": \"US\",\n",
       "        \"customer\": null,\n",
       "        \"cvc_check\": null,\n",
       "        \"dynamic_last4\": null,\n",
       "        \"exp_month\": 8,\n",
       "        \"exp_year\": 2019,\n",
       "        \"fingerprint\": \"qBSiifkG21q0uKB2\",\n",
       "        \"funding\": \"credit\",\n",
       "        \"id\": \"card_1Cyd4KFaIPBmVHYv7xZzW6pf\",\n",
       "        \"last4\": \"4242\",\n",
       "        \"metadata\": {},\n",
       "        \"name\": null,\n",
       "        \"object\": \"card\",\n",
       "        \"tokenization_method\": null\n",
       "      },\n",
       "      \"source_transfer\": null,\n",
       "      \"statement_descriptor\": null,\n",
       "      \"status\": \"succeeded\",\n",
       "      \"transfer_group\": null\n",
       "    }\n",
       "  ],\n",
       "  \"has_more\": true,\n",
       "  \"object\": \"list\",\n",
       "  \"url\": \"/v1/charges\"\n",
       "}"
      ]
     },
     "execution_count": 6,
     "metadata": {},
     "output_type": "execute_result"
    }
   ],
   "source": [
    "stripe.Charge.list(limit=3)"
   ]
  },
  {
   "cell_type": "markdown",
   "metadata": {},
   "source": [
    "## Пример. Двухфазный платеж\n",
    "#### Двухфазный платеж отличается от обычного тем, что позволяет списывать средства с карты покупателя по подтверждению продавца. Например, продавец может списать сумму, когда заказ будет готов к отправке. Также можно списывать не всю сумму, а ее часть.\n",
    "#### Для создания платежа нужно создать объект Charge, передав параметр capture=False:"
   ]
  },
  {
   "cell_type": "code",
   "execution_count": 8,
   "metadata": {},
   "outputs": [],
   "source": [
    "charge = stripe.Charge.create(\n",
    "  amount=999,\n",
    "  currency='usd',\n",
    "  source='tok_visa', #сгенерированный токен\n",
    "  receipt_email='jenny.rosen@example.com',\n",
    "  capture=False,\n",
    ")"
   ]
  },
  {
   "cell_type": "markdown",
   "metadata": {},
   "source": [
    "#### При подтверджении заказа получаем платеж и вызываем метод capture(). Например, можно указать параметр amount, будет списана указанная часть, остальное возвращено покупателю."
   ]
  },
  {
   "cell_type": "code",
   "execution_count": 9,
   "metadata": {},
   "outputs": [
    {
     "data": {
      "text/plain": [
       "<Charge charge id=ch_1Cz3C2FaIPBmVHYvGWKAnPy1 at 0x10e58d888> JSON: {\n",
       "  \"amount\": 999,\n",
       "  \"amount_refunded\": 949,\n",
       "  \"application\": null,\n",
       "  \"application_fee\": null,\n",
       "  \"balance_transaction\": \"txn_1Cz3C9FaIPBmVHYvnQcBFIOi\",\n",
       "  \"captured\": true,\n",
       "  \"created\": 1534255698,\n",
       "  \"currency\": \"usd\",\n",
       "  \"customer\": null,\n",
       "  \"description\": null,\n",
       "  \"destination\": null,\n",
       "  \"dispute\": null,\n",
       "  \"failure_code\": null,\n",
       "  \"failure_message\": null,\n",
       "  \"fraud_details\": {},\n",
       "  \"id\": \"ch_1Cz3C2FaIPBmVHYvGWKAnPy1\",\n",
       "  \"invoice\": null,\n",
       "  \"livemode\": false,\n",
       "  \"metadata\": {},\n",
       "  \"object\": \"charge\",\n",
       "  \"on_behalf_of\": null,\n",
       "  \"order\": null,\n",
       "  \"outcome\": {\n",
       "    \"network_status\": \"approved_by_network\",\n",
       "    \"reason\": null,\n",
       "    \"risk_level\": \"normal\",\n",
       "    \"seller_message\": \"Payment complete.\",\n",
       "    \"type\": \"authorized\"\n",
       "  },\n",
       "  \"paid\": true,\n",
       "  \"receipt_email\": \"jenny.rosen@example.com\",\n",
       "  \"receipt_number\": null,\n",
       "  \"refunded\": false,\n",
       "  \"refunds\": {\n",
       "    \"data\": [\n",
       "      {\n",
       "        \"amount\": 949,\n",
       "        \"balance_transaction\": \"txn_1Cz3C9FaIPBmVHYvehRi65dp\",\n",
       "        \"charge\": \"ch_1Cz3C2FaIPBmVHYvGWKAnPy1\",\n",
       "        \"created\": 1534255705,\n",
       "        \"currency\": \"usd\",\n",
       "        \"id\": \"re_1Cz3C9FaIPBmVHYvaSwFrjd8\",\n",
       "        \"metadata\": {},\n",
       "        \"object\": \"refund\",\n",
       "        \"reason\": null,\n",
       "        \"receipt_number\": null,\n",
       "        \"status\": \"succeeded\"\n",
       "      }\n",
       "    ],\n",
       "    \"has_more\": false,\n",
       "    \"object\": \"list\",\n",
       "    \"total_count\": 1,\n",
       "    \"url\": \"/v1/charges/ch_1Cz3C2FaIPBmVHYvGWKAnPy1/refunds\"\n",
       "  },\n",
       "  \"review\": null,\n",
       "  \"shipping\": null,\n",
       "  \"source\": {\n",
       "    \"address_city\": null,\n",
       "    \"address_country\": null,\n",
       "    \"address_line1\": null,\n",
       "    \"address_line1_check\": null,\n",
       "    \"address_line2\": null,\n",
       "    \"address_state\": null,\n",
       "    \"address_zip\": null,\n",
       "    \"address_zip_check\": null,\n",
       "    \"brand\": \"Visa\",\n",
       "    \"country\": \"US\",\n",
       "    \"customer\": null,\n",
       "    \"cvc_check\": null,\n",
       "    \"dynamic_last4\": null,\n",
       "    \"exp_month\": 8,\n",
       "    \"exp_year\": 2019,\n",
       "    \"fingerprint\": \"qBSiifkG21q0uKB2\",\n",
       "    \"funding\": \"credit\",\n",
       "    \"id\": \"card_1Cz3C2FaIPBmVHYvaMEWGEzV\",\n",
       "    \"last4\": \"4242\",\n",
       "    \"metadata\": {},\n",
       "    \"name\": null,\n",
       "    \"object\": \"card\",\n",
       "    \"tokenization_method\": null\n",
       "  },\n",
       "  \"source_transfer\": null,\n",
       "  \"statement_descriptor\": null,\n",
       "  \"status\": \"succeeded\",\n",
       "  \"transfer_group\": null\n",
       "}"
      ]
     },
     "execution_count": 9,
     "metadata": {},
     "output_type": "execute_result"
    }
   ],
   "source": [
    "charge.capture(amount=50)"
   ]
  },
  {
   "cell_type": "markdown",
   "metadata": {},
   "source": [
    "## Пример. Подписки\n",
    "#### Stripe позволяет подписывать пользователей на различные продукты по различным планам на различные периоды.\n",
    "#### Для создания подписки, в первую очередь нужно создать продукт, на который будем подписывать. Продукты могут быть двух типов: товары и сервисы. При создании продукта в параметре type указываем service:"
   ]
  },
  {
   "cell_type": "code",
   "execution_count": 4,
   "metadata": {},
   "outputs": [],
   "source": [
    "product = stripe.Product.create(\n",
    "  name='My SaaS Platform',\n",
    "  type='service',\n",
    ")\n"
   ]
  },
  {
   "cell_type": "markdown",
   "metadata": {},
   "source": [
    "#### Далее для продукта создаем план подписки, их может быть сколько угодно:"
   ]
  },
  {
   "cell_type": "code",
   "execution_count": 6,
   "metadata": {},
   "outputs": [],
   "source": [
    "plan = stripe.Plan.create(\n",
    "  product=product.id,\n",
    "  nickname='SaaS Platform USD',\n",
    "  interval='month',\n",
    "  currency='usd',\n",
    "  amount=10000,\n",
    ")"
   ]
  },
  {
   "cell_type": "markdown",
   "metadata": {},
   "source": [
    "#### Для хранение информации о клиенте также необходимо создать объект Customer, который может хранить всю данные клиента, его способах оплаты, првязанных картах."
   ]
  },
  {
   "cell_type": "code",
   "execution_count": 8,
   "metadata": {},
   "outputs": [],
   "source": [
    "customer = stripe.Customer.create(\n",
    "  email='jenny.rosen@example.com',\n",
    "  source='tok_visa',\n",
    ")"
   ]
  },
  {
   "cell_type": "markdown",
   "metadata": {},
   "source": [
    "#### При создании Customer можно указать явно параметр source. Это может быть либо токен карты, полученный с клиента, в таком случае указанная карта будет способом оплаты по умолчанию. Либо можно создать и передать отдельный объект Source, который может принимать любые другие доступные способы оплаты."
   ]
  },
  {
   "cell_type": "code",
   "execution_count": 10,
   "metadata": {},
   "outputs": [
    {
     "data": {
      "text/plain": [
       "<Source source id=src_1D06ycFaIPBmVHYvYMLsZ120 at 0x10e51ce60> JSON: {\n",
       "  \"ach_credit_transfer\": {\n",
       "    \"account_number\": \"test_3d07118a8b41\",\n",
       "    \"bank_name\": \"TEST BANK\",\n",
       "    \"fingerprint\": \"mZi7XCc3tXa5H7ZU\",\n",
       "    \"routing_number\": \"110000000\",\n",
       "    \"swift_code\": \"TSTEZ122\"\n",
       "  },\n",
       "  \"amount\": null,\n",
       "  \"client_secret\": \"src_client_secret_DQywVSIcRibeaWTrLrib6nDk\",\n",
       "  \"created\": 1534508570,\n",
       "  \"currency\": \"usd\",\n",
       "  \"flow\": \"receiver\",\n",
       "  \"id\": \"src_1D06ycFaIPBmVHYvYMLsZ120\",\n",
       "  \"livemode\": false,\n",
       "  \"metadata\": {},\n",
       "  \"object\": \"source\",\n",
       "  \"owner\": {\n",
       "    \"address\": null,\n",
       "    \"email\": \"jenny.rosen@example.com\",\n",
       "    \"name\": null,\n",
       "    \"phone\": null,\n",
       "    \"verified_address\": null,\n",
       "    \"verified_email\": null,\n",
       "    \"verified_name\": null,\n",
       "    \"verified_phone\": null\n",
       "  },\n",
       "  \"receiver\": {\n",
       "    \"address\": \"110000000-test_3d07118a8b41\",\n",
       "    \"amount_charged\": 0,\n",
       "    \"amount_received\": 0,\n",
       "    \"amount_returned\": 0,\n",
       "    \"refund_attributes_method\": \"email\",\n",
       "    \"refund_attributes_status\": \"missing\"\n",
       "  },\n",
       "  \"statement_descriptor\": null,\n",
       "  \"status\": \"pending\",\n",
       "  \"type\": \"ach_credit_transfer\",\n",
       "  \"usage\": \"reusable\"\n",
       "}"
      ]
     },
     "execution_count": 10,
     "metadata": {},
     "output_type": "execute_result"
    }
   ],
   "source": [
    "stripe.Source.create(\n",
    "  type='ach_credit_transfer',\n",
    "  currency='usd',\n",
    "  owner={\n",
    "    'email': 'jenny.rosen@example.com'\n",
    "  }\n",
    ")"
   ]
  },
  {
   "cell_type": "markdown",
   "metadata": {},
   "source": [
    "#### Далее мы можем подписать клиента на наш план подписки, создав объект Subcription:"
   ]
  },
  {
   "cell_type": "code",
   "execution_count": 11,
   "metadata": {},
   "outputs": [],
   "source": [
    "subscription = stripe.Subscription.create(\n",
    "  customer=customer.id,\n",
    "  items=[{'plan': plan.id}],\n",
    ")"
   ]
  },
  {
   "cell_type": "markdown",
   "metadata": {},
   "source": [
    "#### Когда наступит время оплаты, Stripe будет создаст объект Invoice. В зависимости от настроек аккаунта сумма может списываться автоматически, либо посредством выставления счета и отправки email.\n",
    "#### Также Stripe предоставляет механизм webhooks, который позволяет своевременно уведомлять клиента и продавца о различных событиях. Чаще всего webhooks использутся для обработки неудачных случаев при автоматическом списывании, отслеживания активных подписок, отслеживания изменений в состоянии и условий подписок.\n",
    "#### Создать и настроить webhooks можно в дашборде Stripe. https://dashboard.stripe.com/account/webhooks. Необходимо указать тип события и эндпоинт, который "
   ]
  }
 ],
 "metadata": {
  "kernelspec": {
   "display_name": "Python 3",
   "language": "python",
   "name": "python3"
  },
  "language_info": {
   "codemirror_mode": {
    "name": "ipython",
    "version": 3
   },
   "file_extension": ".py",
   "mimetype": "text/x-python",
   "name": "python",
   "nbconvert_exporter": "python",
   "pygments_lexer": "ipython3",
   "version": "3.6.5"
  }
 },
 "nbformat": 4,
 "nbformat_minor": 2
}
